{
 "cells": [
  {
   "cell_type": "code",
   "execution_count": 47,
   "metadata": {
    "collapsed": true
   },
   "outputs": [],
   "source": [
    "from selenium import webdriver\n",
    "from selenium.webdriver.common.keys import Keys\n",
    "import configparser"
   ]
  },
  {
   "cell_type": "code",
   "execution_count": 48,
   "metadata": {},
   "outputs": [
    {
     "data": {
      "text/plain": [
       "['config.ini']"
      ]
     },
     "execution_count": 48,
     "metadata": {},
     "output_type": "execute_result"
    }
   ],
   "source": [
    "#read config file\n",
    "config = configparser.ConfigParser()\n",
    "config.read('config.ini')"
   ]
  },
  {
   "cell_type": "code",
   "execution_count": 49,
   "metadata": {
    "collapsed": true
   },
   "outputs": [],
   "source": [
    "driver_path = config['webdriver']['path']\n",
    "base_url = config['webdriver']['base_url']"
   ]
  },
  {
   "cell_type": "code",
   "execution_count": 50,
   "metadata": {
    "collapsed": true
   },
   "outputs": [],
   "source": [
    "driver = webdriver.Firefox(executable_path = driver_path)\n",
    "driver.set_page_load_timeout(15)"
   ]
  },
  {
   "cell_type": "code",
   "execution_count": 71,
   "metadata": {},
   "outputs": [],
   "source": [
    "def get_contents_list():\n",
    "    content = driver.find_element_by_id('content')\n",
    "    program_wrap = content.find_element_by_class_name('program_wrap')\n",
    "    program_list = program_wrap.find_element_by_id('cds_flick')\n",
    "    container = program_list.find_element_by_class_name('flick-container')\n",
    "    container_area = container.find_element_by_class_name('program_all')\n",
    "    \n",
    "    daily_program_list = container_area.find_elements_by_class_name('col')\n",
    "    \n",
    "    for col in daily_program_list:\n",
    "        anchors = col.find_elements_by_css_selector('a')\n",
    "        for anchor in anchors:\n",
    "            href = anchor.get_attribute('href')\n",
    "            print(href)"
   ]
  },
  {
   "cell_type": "code",
   "execution_count": 72,
   "metadata": {},
   "outputs": [
    {
     "name": "stdout",
     "output_type": "stream",
     "text": [
      "http://tv.naver.com/jtbc.hyolee/playlists\n",
      "http://tv.naver.com/jtbc.hyolee/playlists\n",
      "http://tv.naver.com/superman/playlists\n",
      "http://tv.naver.com/superman/playlists\n",
      "http://tv.naver.com/kbs.dad/playlists\n",
      "http://tv.naver.com/kbs.dad/playlists\n",
      "http://tv.naver.com/sbs.woori/playlists\n",
      "http://tv.naver.com/sbs.woori/playlists\n",
      "http://tv.naver.com/inkigayo/playlists\n",
      "http://tv.naver.com/inkigayo/playlists\n",
      "http://tv.naver.com/mask/playlists\n",
      "http://tv.naver.com/mask/playlists\n",
      "http://tv.naver.com/kbs.ssammyway/playlists\n",
      "http://tv.naver.com/kbs.ssammyway/playlists\n",
      "http://tv.naver.com/cjenm.habaek2017/playlists\n",
      "http://tv.naver.com/cjenm.habaek2017/playlists\n",
      "http://tv.naver.com/sbs.mysassygirl/playlists\n",
      "http://tv.naver.com/sbs.mysassygirl/playlists\n",
      "http://tv.naver.com/kbs.namegirl/playlists\n",
      "http://tv.naver.com/kbs.namegirl/playlists\n",
      "http://tv.naver.com/idoldrama/playlists\n",
      "http://tv.naver.com/idoldrama/playlists\n",
      "http://tv.naver.com/nonsummit/playlists\n",
      "http://tv.naver.com/nonsummit/playlists\n",
      "http://tv.naver.com/kbs.ssammyway/playlists\n",
      "http://tv.naver.com/kbs.ssammyway/playlists\n",
      "http://tv.naver.com/cjenm.tvnbros4/playlists\n",
      "http://tv.naver.com/cjenm.tvnbros4/playlists\n",
      "http://tv.naver.com/cjenm.habaek2017/playlists\n",
      "http://tv.naver.com/cjenm.habaek2017/playlists\n",
      "http://tv.naver.com/sbs.mysassygirl/playlists\n",
      "http://tv.naver.com/sbs.mysassygirl/playlists\n",
      "http://tv.naver.com/kbs.namegirl/playlists\n",
      "http://tv.naver.com/kbs.namegirl/playlists\n",
      "http://tv.naver.com/idoldrama/playlists\n",
      "http://tv.naver.com/idoldrama/playlists\n",
      "http://tv.naver.com/radiostar/playlists\n",
      "http://tv.naver.com/radiostar/playlists\n",
      "http://tv.naver.com/sbs.LoveInTrouble/playlists\n",
      "http://tv.naver.com/sbs.LoveInTrouble/playlists\n",
      "http://tv.naver.com/showchampion/playlists\n",
      "http://tv.naver.com/showchampion/playlists\n",
      "http://tv.naver.com/mbc.gunju/playlists\n",
      "http://tv.naver.com/mbc.gunju/playlists\n",
      "http://tv.naver.com/kbs.7day/playlists\n",
      "http://tv.naver.com/kbs.7day/playlists\n",
      "http://tv.naver.com/weekidol/playlists\n",
      "http://tv.naver.com/weekidol/playlists\n",
      "http://tv.naver.com/sbs.LoveInTrouble/playlists\n",
      "http://tv.naver.com/sbs.LoveInTrouble/playlists\n",
      "http://tv.naver.com/happytogether3/playlists\n",
      "http://tv.naver.com/happytogether3/playlists\n",
      "http://tv.naver.com/mbc.gunju/playlists\n",
      "http://tv.naver.com/mbc.gunju/playlists\n",
      "http://tv.naver.com/cjenm.yourvoice4/playlists\n",
      "http://tv.naver.com/cjenm.yourvoice4/playlists\n",
      "http://tv.naver.com/kbs.7day/playlists\n",
      "http://tv.naver.com/kbs.7day/playlists\n",
      "http://tv.naver.com/kbs.namegirl/playlists\n",
      "http://tv.naver.com/kbs.namegirl/playlists\n",
      "http://tv.naver.com/cjenm.smtm6/playlists\n",
      "http://tv.naver.com/cjenm.smtm6/playlists\n",
      "http://tv.naver.com/jtbc.dignity/playlists\n",
      "http://tv.naver.com/jtbc.dignity/playlists\n",
      "http://tv.naver.com/cjenm.produce101s2/playlists\n",
      "http://tv.naver.com/cjenm.produce101s2/playlists\n",
      "http://tv.naver.com/singlelife/playlists\n",
      "http://tv.naver.com/singlelife/playlists\n",
      "http://tv.naver.com/musicbank/playlists\n",
      "http://tv.naver.com/musicbank/playlists\n",
      "http://tv.naver.com/kbs.best0/playlists\n",
      "http://tv.naver.com/kbs.best0/playlists\n",
      "http://tv.naver.com/jtbc.dignity/playlists\n",
      "http://tv.naver.com/jtbc.dignity/playlists\n",
      "http://tv.naver.com/challenge/playlists\n",
      "http://tv.naver.com/challenge/playlists\n",
      "http://tv.naver.com/kbs.dad/playlists\n",
      "http://tv.naver.com/kbs.dad/playlists\n",
      "http://tv.naver.com/jtbc.jtbcbros/playlists\n",
      "http://tv.naver.com/jtbc.jtbcbros/playlists\n",
      "http://tv.naver.com/cjenm.tvnstranger/playlists\n",
      "http://tv.naver.com/cjenm.tvnstranger/playlists\n",
      "http://tv.naver.com/sbs.sister.is.alive/playlists\n",
      "http://tv.naver.com/sbs.sister.is.alive/playlists\n"
     ]
    }
   ],
   "source": [
    "driver.get(base_url)\n",
    "driver.implicitly_wait(10)\n",
    "get_contents_list()"
   ]
  },
  {
   "cell_type": "code",
   "execution_count": null,
   "metadata": {
    "collapsed": true
   },
   "outputs": [],
   "source": []
  }
 ],
 "metadata": {
  "kernelspec": {
   "display_name": "Python 3",
   "language": "python",
   "name": "python3"
  },
  "language_info": {
   "codemirror_mode": {
    "name": "ipython",
    "version": 3
   },
   "file_extension": ".py",
   "mimetype": "text/x-python",
   "name": "python",
   "nbconvert_exporter": "python",
   "pygments_lexer": "ipython3",
   "version": "3.6.1"
  }
 },
 "nbformat": 4,
 "nbformat_minor": 2
}
