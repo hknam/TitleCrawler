{
 "cells": [
  {
   "cell_type": "code",
   "execution_count": null,
   "metadata": {
    "collapsed": true
   },
   "outputs": [],
   "source": [
    "from selenium import webdriver\n",
    "from selenium.webdriver.common.keys import Keys\n",
    "import configparser"
   ]
  },
  {
   "cell_type": "code",
   "execution_count": null,
   "metadata": {},
   "outputs": [],
   "source": [
    "#read config file\n",
    "config = configparser.ConfigParser()\n",
    "config.read('config.ini')"
   ]
  },
  {
   "cell_type": "code",
   "execution_count": null,
   "metadata": {
    "collapsed": true
   },
   "outputs": [],
   "source": [
    "driver_path = config['webdriver']['path']\n",
    "base_url = config['webdriver']['base_url']"
   ]
  },
  {
   "cell_type": "code",
   "execution_count": null,
   "metadata": {
    "collapsed": true
   },
   "outputs": [],
   "source": [
    "driver = webdriver.Firefox(executable_path = driver_path)\n",
    "driver.set_page_load_timeout(15)"
   ]
  },
  {
   "cell_type": "code",
   "execution_count": null,
   "metadata": {},
   "outputs": [],
   "source": [
    "def get_contents_list():\n",
    "    content = driver.find_element_by_id('content')\n",
    "    program_wrap = content.find_element_by_class_name('program_wrap')\n",
    "    program_list = program_wrap.find_element_by_id('cds_flick')\n",
    "    container = program_list.find_element_by_class_name('flick-container')\n",
    "    container_area = container.find_element_by_class_name('program_all')\n",
    "    \n",
    "    daily_program_list = container_area.find_elements_by_class_name('col')\n",
    "    \n",
    "    for col in daily_program_list:\n",
    "        #anchors = col.find_elements_by_css_selector('a')\n",
    "        anchors = col.find_elements_by_class_name('info_a')\n",
    "        for anchor in anchors:\n",
    "            href = anchor.get_attribute('href')\n",
    "            get_detail_page(href)"
   ]
  },
  {
   "cell_type": "code",
   "execution_count": null,
   "metadata": {
    "collapsed": true
   },
   "outputs": [],
   "source": [
    "def get_detail_page(page_url):\n",
    "    driver = webdriver.Firefox(executable_path = driver_path)\n",
    "    driver.set_page_load_timeout(15)\n",
    "    driver.get(page_url)\n",
    "    \n",
    "    contents = driver.find_element_by_class_name('_infiniteCardArea')\n",
    "    playlist = contents.find_elements_by_class_name('playlist')\n",
    "    \n",
    "    for weekly_list in playlist:\n",
    "        clip_container = weekly_list.find_elements_by_class_name('playlist_container')\n",
    "        for clip in clip_container:\n",
    "            ul = clip.find_elements_by_css_selector('ul')\n",
    "            for li in ul:\n",
    "                anchors = li.find_elements_by_css_selector('a')\n",
    "                for anchor in anchors:\n",
    "                    href = anchor.get_attribute('href')\n",
    "                    print(href)\n",
    "    \n",
    "    driver.quit()\n",
    "    \n",
    "    "
   ]
  },
  {
   "cell_type": "code",
   "execution_count": null,
   "metadata": {},
   "outputs": [],
   "source": [
    "driver.get(base_url)\n",
    "driver.implicitly_wait(10)\n",
    "get_contents_list()"
   ]
  },
  {
   "cell_type": "code",
   "execution_count": null,
   "metadata": {
    "collapsed": true
   },
   "outputs": [],
   "source": []
  }
 ],
 "metadata": {
  "kernelspec": {
   "display_name": "Python 3",
   "language": "python",
   "name": "python3"
  },
  "language_info": {
   "codemirror_mode": {
    "name": "ipython",
    "version": 3
   },
   "file_extension": ".py",
   "mimetype": "text/x-python",
   "name": "python",
   "nbconvert_exporter": "python",
   "pygments_lexer": "ipython3",
   "version": "3.6.1"
  }
 },
 "nbformat": 4,
 "nbformat_minor": 2
}
